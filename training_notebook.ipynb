{
 "cells": [
  {
   "cell_type": "markdown",
   "id": "75de225d-a659-4e66-ab4d-aff80daf39d5",
   "metadata": {},
   "source": [
    "# Training Neural Networks to Infer the Peclet Number of Model Runs\n",
    "\n",
    "This notebook trains two convolutional neural networks to infer the\n",
    "Peclet number of 2D streampower-diffusion landscape evolution models.\n",
    "The purpose of this notebook is to make it easy to replicate the work\n",
    "done in this project in Google Colab"
   ]
  },
  {
   "cell_type": "code",
   "execution_count": 1,
   "id": "69f4289d-b647-40ef-a9c0-f9242c328bd8",
   "metadata": {
    "results": "output"
   },
   "outputs": [],
   "source": [
    "import torch\n",
    "from train_peclet_model import PecletModelTrainer\n",
    "from ThreeLayerCNNRegressor import ThreeLayerCNNRegressor\n",
    "import json\n"
   ]
  },
  {
   "cell_type": "code",
   "execution_count": null,
   "id": "85b6416a-4610-4495-970b-60a4b209da92",
   "metadata": {
    "tangle": "python.py"
   },
   "outputs": [],
   "source": [
    "with open('full_dataset_statistics.json', 'r') as f:\n",
    "    stats = json.load(f)\n"
   ]
  },
  {
   "cell_type": "code",
   "execution_count": null,
   "id": "162c2ec9-3b2d-48f4-97e3-2afb0e9f9f3f",
   "metadata": {
    "results": "output"
   },
   "outputs": [],
   "source": [
    "torch.manual_seed(0)\n",
    "db_path = 'model_runs.db'\n",
    "data_path = 'model_run_topography'\n",
    "trainer_one = PecletModelTrainer(db_path,\n",
    "                                 data_path,\n",
    "                                 ThreeLayerCNNRegressor,\n",
    "                                 \"SELECT log_peclet FROM model_run_outputs\",\n",
    "                                 epochs=50,\n",
    "                                 learning_rate=0.0001,\n",
    "                                 **stats)\n",
    "trainer_one.train()\n",
    "trainer_one.evaluate()\n",
    "trainer_one.save_weights('peclet_predictor_run_one.pt')\n",
    "run_one_results, ax = plt.subplots()\n",
    "ax.scatterplot(trainer_one.test_df['true_labels'], trainer_one.test_df['predictions'])\n",
    "ax.set_xlabel('True Log Pe')\n",
    "ax.set_yabel('Inferred Log Pe')\n",
    "ax.set_title('Performance of Model with Seed 0')\n",
    "run_one_resuts.savefig('run_one_results.png')\n"
   ]
  },
  {
   "cell_type": "code",
   "execution_count": null,
   "id": "8de800b8-dda3-402b-9637-18175c760413",
   "metadata": {
    "results": "output"
   },
   "outputs": [],
   "source": [
    "torch.manual_seed(10)\n",
    "trainer_two = PecletModelTrainer(db_path,\n",
    "                                 data_path,\n",
    "                                 ThreeLayerCNNRegressor,\n",
    "                                 \"SELECT log_peclet FROM model_run_outputs\",\n",
    "                                 epochs=50\n",
    "                                 learning_rate=0.0001,\n",
    "                                 **stats)\n",
    "trainer_two.train()\n",
    "trainer_two.evaluate()\n",
    "trainer_two.save_weights('peclet_predictor_run_two.pt')\n",
    "run_two_results, ax = plt.subplots()\n",
    "ax.set_xlabel('True Log Pe')\n",
    "ax.set_ylabel('Inferred Log Pe')\n",
    "ax.set_title('Performance of Mode l with Seed 10')\n",
    "run_two_results.savefig('run_two_results.png')\n"
   ]
  }
 ],
 "metadata": {
  "kernelspec": {
   "display_name": "Python 3 (ipykernel)",
   "language": "python",
   "name": "python3"
  },
  "language_info": {
   "codemirror_mode": {
    "name": "ipython",
    "version": 3
   },
   "file_extension": ".py",
   "mimetype": "text/x-python",
   "name": "python",
   "nbconvert_exporter": "python",
   "pygments_lexer": "ipython3",
   "version": "3.13.2"
  }
 },
 "nbformat": 4,
 "nbformat_minor": 5
}
