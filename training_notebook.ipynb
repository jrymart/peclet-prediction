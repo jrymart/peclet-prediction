{
 "cells": [
  {
   "cell_type": "markdown",
   "metadata": {},
   "source": [
    "# Training Neural Networks to Infer the Peclet Number of Model Runs\n",
    "\n",
    "This notebook trains two convolutional neural networks to infer the\n",
    "Peclet number of 2D streampower-diffusion landscape evolution models.\n",
    "The purpose of this notebook is to make it easy to replicate the work\n",
    "done in this project in Google Colab"
   ],
   "id": "32747722-9421-47a2-a465-a7fd6ec9e658"
  },
  {
   "cell_type": "code",
   "execution_count": null,
   "metadata": {},
   "outputs": [],
   "source": [
    "!git clone https://github.com/jrymart/peclet-prediction.git\n"
   ],
   "id": "31938580-9dc2-400e-905e-74d8cf30b178"
  },
  {
   "cell_type": "code",
   "execution_count": null,
   "metadata": {
    "results": "output"
   },
   "outputs": [],
   "source": [
    "import torch\n",
    "from train_peclet_model import PecletModelTrainer\n",
    "from ThreeLayerCNNRegressor import ThreeLayerCNNRegressor\n",
    "import json\n"
   ],
   "id": "7ef19d3a-8b28-4f34-8a63-e96a12bfd849"
  },
  {
   "cell_type": "code",
   "execution_count": null,
   "metadata": {
    "tangle": "python.py"
   },
   "outputs": [],
   "source": [
    "with open('full_dataset_statistics.json', 'r') as f:\n",
    "    stats = json.load(f)\n"
   ],
   "id": "af9988d8-f9b7-4947-8b04-f767867eb7b2"
  },
  {
   "cell_type": "code",
   "execution_count": null,
   "metadata": {
    "results": "output"
   },
   "outputs": [],
   "source": [
    "torch.manual_seed(0)\n",
    "db_path = 'model_runs.db'\n",
    "data_path = 'model_run_topography'\n",
    "trainer_one = PecletModelTrainer(db_path,\n",
    "                                 data_path,\n",
    "                                 ThreeLayerCNNRegressor,\n",
    "                                 \"SELECT log_peclet FROM model_run_outputs\",\n",
    "                                 epochs=50,\n",
    "                                 learning_rate=0.0001,\n",
    "                                 **stats)\n",
    "trainer_one.train()\n",
    "trainer_one.evaluate()\n",
    "trainer_one.save_weights('peclet_predictor_run_one.pt')\n",
    "run_one_results, ax = plt.subplots()\n",
    "ax.scatterplot(trainer_one.test_df['true_labels'], trainer_one.test_df['predictions'])\n",
    "ax.set_xlabel('True Log Pe')\n",
    "ax.set_yabel('Inferred Log Pe')\n",
    "ax.set_title('Performance of Model with Seed 0')\n",
    "run_one_resuts.savefig('run_one_results.png')\n"
   ],
   "id": "c5f5b83e-0ac1-4043-97d2-983567c8dbba"
  },
  {
   "cell_type": "code",
   "execution_count": null,
   "metadata": {
    "results": "output"
   },
   "outputs": [],
   "source": [
    "torch.manual_seed(10)\n",
    "trainer_two = PecletModelTrainer(db_path,\n",
    "                                 data_path,\n",
    "                                 ThreeLayerCNNRegressor,\n",
    "                                 \"SELECT log_peclet FROM model_run_outputs\",\n",
    "                                 epochs=50\n",
    "                                 learning_rate=0.0001,\n",
    "                                 **stats)\n",
    "trainer_two.train()\n",
    "trainer_two.evaluate()\n",
    "trainer_two.save_weights('peclet_predictor_run_two.pt')\n",
    "run_two_results, ax = plt.subplots()\n",
    "ax.set_xlabel('True Log Pe')\n",
    "ax.set_ylabel('Inferred Log Pe')\n",
    "ax.set_title('Performance of Mode l with Seed 10')\n",
    "run_two_results.savefig('run_two_results.png')\n"
   ],
   "id": "c0e4de10-8c25-49c3-aea0-4ddd52a07761"
  }
 ],
 "nbformat": 4,
 "nbformat_minor": 5,
 "metadata": {}
}
