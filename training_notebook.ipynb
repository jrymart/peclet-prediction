{
 "cells": [
  {
   "cell_type": "markdown",
   "metadata": {},
   "source": [
    "# Training Neural Networks to Infer the Peclet Number of Model Runs\n",
    "\n",
    "This notebook trains two convolutional neural networks to infer the\n",
    "Peclet number of 2D streampower-diffusion landscape evolution models.\n",
    "The purpose of this notebook is to make it easy to replicate the work\n",
    "done in this project in Google Colab"
   ],
   "id": "5821cac9-57f3-4e84-ac6d-034bb84206a9"
  },
  {
   "cell_type": "code",
   "execution_count": null,
   "metadata": {},
   "outputs": [],
   "source": [
    "!git clone https://github.com/jrymart/peclet-prediction.git\n",
    "import os\n",
    "os.chdir('peclet-prediction')\n"
   ],
   "id": "d62e0d89-92a2-4a16-a2b2-9f53b23549c5"
  },
  {
   "cell_type": "code",
   "execution_count": null,
   "metadata": {
    "results": "output"
   },
   "outputs": [],
   "source": [
    "import torch\n",
    "from train_peclet_model import PecletModelTrainer\n",
    "from ThreeLayerCNNRegressor import ThreeLayerCNNRegressor\n",
    "import json\n"
   ],
   "id": "47c2ce8c-a58a-479e-a14f-82c4eccb8cd7"
  },
  {
   "cell_type": "code",
   "execution_count": null,
   "metadata": {
    "tangle": "python.py"
   },
   "outputs": [],
   "source": [
    "with open('full_dataset_statistics.json', 'r') as f:\n",
    "    stats = json.load(f)\n"
   ],
   "id": "e00948c8-4d3f-4f63-a9dc-c4b1d45ab88d"
  },
  {
   "cell_type": "code",
   "execution_count": null,
   "metadata": {
    "results": "output"
   },
   "outputs": [],
   "source": [
    "torch.manual_seed(0)\n",
    "db_path = 'model_runs.db'\n",
    "data_path = 'model_run_topography'\n",
    "trainer_one = PecletModelTrainer(db_path,\n",
    "                                 data_path,\n",
    "                                 ThreeLayerCNNRegressor,\n",
    "                                 \"SELECT log_peclet FROM model_run_outputs\",\n",
    "                                 epochs=50,\n",
    "                                 learning_rate=0.0001,\n",
    "                                 **stats)\n",
    "trainer_one.train()\n",
    "trainer_one.evaluate()\n",
    "trainer_one.save_weights('peclet_predictor_run_one.pt')\n",
    "run_one_results, ax = plt.subplots()\n",
    "ax.scatterplot(trainer_one.test_df['true_labels'], trainer_one.test_df['predictions'])\n",
    "ax.set_xlabel('True Log Pe')\n",
    "ax.set_yabel('Inferred Log Pe')\n",
    "ax.set_title('Performance of Model with Seed 0')\n",
    "run_one_resuts.savefig('run_one_results.png')\n"
   ],
   "id": "a8130a95-095d-44a5-983a-ce5c84346b25"
  },
  {
   "cell_type": "code",
   "execution_count": null,
   "metadata": {
    "results": "output"
   },
   "outputs": [],
   "source": [
    "torch.manual_seed(10)\n",
    "trainer_two = PecletModelTrainer(db_path,\n",
    "                                 data_path,\n",
    "                                 ThreeLayerCNNRegressor,\n",
    "                                 \"SELECT log_peclet FROM model_run_outputs\",\n",
    "                                 epochs=50\n",
    "                                 learning_rate=0.0001,\n",
    "                                 **stats)\n",
    "trainer_two.train()\n",
    "trainer_two.evaluate()\n",
    "trainer_two.save_weights('peclet_predictor_run_two.pt')\n",
    "run_two_results, ax = plt.subplots()\n",
    "ax.set_xlabel('True Log Pe')\n",
    "ax.set_ylabel('Inferred Log Pe')\n",
    "ax.set_title('Performance of Mode l with Seed 10')\n",
    "run_two_results.savefig('run_two_results.png')\n"
   ],
   "id": "587db47b-d611-4110-95e7-1ef4dc67c927"
  }
 ],
 "nbformat": 4,
 "nbformat_minor": 5,
 "metadata": {}
}
