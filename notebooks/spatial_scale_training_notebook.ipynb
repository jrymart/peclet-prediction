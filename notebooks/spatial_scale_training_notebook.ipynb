{
 "cells": [
  {
   "cell_type": "markdown",
   "metadata": {},
   "source": [
    "# Training Neural Networks to Infer the Peclet Number of Model Runs\n",
    "\n",
    "This notebook trains two convolutional neural networks to infer the\n",
    "Peclet number of 2D streampower-diffusion landscape evolution models.\n",
    "The purpose of this notebook is to make it easy to replicate the work\n",
    "done in this project in Google Colab"
   ],
   "id": "50fbb537-5006-45ef-bd15-f6de57bad544"
  },
  {
   "cell_type": "code",
   "execution_count": null,
   "metadata": {},
   "outputs": [],
   "source": [
    "!git clone https://github.com/jrymart/peclet-prediction.git\n",
    "import os\n",
    "os.chdir('peclet-prediction')\n"
   ],
   "id": "8c74e4eb-14ce-4194-a5b8-3e7d56a32f41"
  },
  {
   "cell_type": "code",
   "execution_count": null,
   "metadata": {
    "results": "output"
   },
   "outputs": [],
   "source": [
    "import torch\n",
    "from train_peclet_model import PecletModelTrainer\n",
    "from SpatialScaleCNNRegressor import SpatialScaleCNNRegressor\n",
    "import json\n",
    "import matplotlib.pyplot as plt\n",
    "from sklearn.metrics import root_mean_squared_error as rmse\n"
   ],
   "id": "33ab0304-d190-449d-9515-27ada6c51df4"
  },
  {
   "cell_type": "code",
   "execution_count": null,
   "metadata": {
    "tangle": "python.py"
   },
   "outputs": [],
   "source": [
    "with open('full_dataset_statistics.json', 'r') as f:\n",
    "    stats = json.load(f)\n"
   ],
   "id": "4b82db6d-d92c-4be0-b5cf-a944bbf18767"
  },
  {
   "cell_type": "code",
   "execution_count": null,
   "metadata": {
    "results": "output"
   },
   "outputs": [],
   "source": [
    "scales = np.arange(3,10)\n",
    "trainers = [PecletModelTrainer(db_path,\n",
    "                               data_path,\n",
    "                               SpatialScaleCNNRegressor([s for s in scales if s !=i]),\n",
    "                               \"SELECT log_peclet FROM model_run_outputs\",\n",
    "                               epochs=50,\n",
    "                               learning_rate=0.0001, **stats) for i in scales]\n"
   ],
   "id": "8b0d4a14-8bc0-4363-a2af-d3626c3320e1"
  },
  {
   "cell_type": "code",
   "execution_count": null,
   "metadata": {
    "results": "output"
   },
   "outputs": [],
   "source": [
    "for trainer in trainers:\n",
    "        trainer.train()\n",
    "        trainer.evaluate()\n",
    "        trainer.save_weights(f'spatial_run_3-10_no_{i}.pt')\n"
   ],
   "id": "01e9888d-ac33-4621-9500-daf1679dbac3"
  },
  {
   "cell_type": "code",
   "execution_count": null,
   "metadata": {
    "results": "output"
   },
   "outputs": [],
   "source": [
    "RMSEs = [rmse(trainer.test_df['true_labels'], trainer.test_df['predictions']) for trainer in trainers]\n",
    "fig, ax = plt.subplots()\n",
    "for i, s in enumerate(scales):\n",
    "    trainer = trainers[i]\n",
    "    ax.scatter(trainer.test_df['true_labels'], trainer.test_df['predictions'],\n",
    "    s=1, alpha=0.5, label=f'Trained without scale {s} (RMSE {RMSEs[i]:.2f})')\n"
   ],
   "id": "589bc6fe-5dfc-4933-9ffa-294595797fd1"
  }
 ],
 "nbformat": 4,
 "nbformat_minor": 5,
 "metadata": {}
}
