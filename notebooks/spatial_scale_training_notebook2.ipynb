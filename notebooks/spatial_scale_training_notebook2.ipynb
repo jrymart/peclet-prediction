{
 "cells": [
  {
   "cell_type": "markdown",
   "metadata": {},
   "source": [
    "# Training Neural Networks to Infer the Peclet Number of Model Runs\n",
    "\n",
    "This notebook trains two convolutional neural networks to infer the\n",
    "Peclet number of 2D streampower-diffusion landscape evolution models.\n",
    "The purpose of this notebook is to make it easy to replicate the work\n",
    "done in this project in Google Colab"
   ],
   "id": "476e6f8f-4cd9-4e6a-9449-cf9be2be2582"
  },
  {
   "cell_type": "code",
   "execution_count": null,
   "metadata": {},
   "outputs": [],
   "source": [
    "!git clone https://github.com/jrymart/peclet-prediction.git\n",
    "import os\n",
    "os.chdir('peclet-prediction')\n"
   ],
   "id": "7735682b-aa29-48d3-be41-dec17a646851"
  },
  {
   "cell_type": "code",
   "execution_count": null,
   "metadata": {
    "results": "output"
   },
   "outputs": [],
   "source": [
    "import torch\n",
    "from train_peclet_model import PecletModelTrainer\n",
    "from SpatialScaleCNNRegressor import SpatialScaleCNNRegressor\n",
    "import json\n",
    "import matplotlib.pyplot as plt\n",
    "from sklearn.metrics import root_mean_squared_error as rmse\n"
   ],
   "id": "ca8de79f-cc52-40b3-8503-03081d04505f"
  },
  {
   "cell_type": "code",
   "execution_count": null,
   "metadata": {
    "tangle": "python.py"
   },
   "outputs": [],
   "source": [
    "with open('full_dataset_statistics.json', 'r') as f:\n",
    "    stats = json.load(f)\n"
   ],
   "id": "278929db-6d3a-40e0-8c5d-92bf8bbb8195"
  },
  {
   "cell_type": "code",
   "execution_count": null,
   "metadata": {
    "results": "output"
   },
   "outputs": [],
   "source": [
    "scales = np.arange(3,10)\n",
    "trainers = [PecletModelTrainer(db_path,\n",
    "                               data_path,\n",
    "                               SpatialScaleCNNRegressor([s for s in scales if s !=i]),\n",
    "                               \"SELECT log_peclet FROM model_run_outputs\",\n",
    "                               epochs=50,\n",
    "                               learning_rate=0.0001, **stats) for i in scales]\n"
   ],
   "id": "e3574890-517c-4b75-93e1-231e5d8360f1"
  },
  {
   "cell_type": "code",
   "execution_count": null,
   "metadata": {
    "results": "output"
   },
   "outputs": [],
   "source": [
    "for trainer in trainers:\n",
    "        trainer.train()\n",
    "        trainer.evaluate()\n",
    "        trainer.save_weights(f'spatial_run_3-10_no_{i}.pt')\n"
   ],
   "id": "57377075-dbca-43e5-8a89-64f1417f4505"
  },
  {
   "cell_type": "code",
   "execution_count": null,
   "metadata": {
    "results": "output"
   },
   "outputs": [],
   "source": [
    "RMSEs = [rmse(trainer.test_df['true_labels'], trainer.test_df['predictions']) for trainer in trainers]\n",
    "fig, ax = plt.subplots()\n",
    "for i, s in enumerate(scales):\n",
    "    trainer = trainers[i]\n",
    "    ax.scatter(trainer.test_df['true_labels'], trainer.test_df['predictions'],\n",
    "    s=1, alpha=0.5, label=f'Trained without scale {s} (RMSE {RMSEs[i]:.2f})')\n"
   ],
   "id": "3c370124-f6ed-4932-8752-db77b0cef743"
  }
 ],
 "nbformat": 4,
 "nbformat_minor": 5,
 "metadata": {}
}
