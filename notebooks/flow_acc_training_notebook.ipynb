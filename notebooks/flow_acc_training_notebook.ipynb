{
 "cells": [
  {
   "cell_type": "markdown",
   "metadata": {},
   "source": [
    "# Training Neural Networks to Infer the Peclet Number of Model Runs\n",
    "\n",
    "This notebook trains two convolutional neural networks to infer the\n",
    "Peclet number of 2D streampower-diffusion landscape evolution models.\n",
    "The purpose of this notebook is to make it easy to replicate the work\n",
    "done in this project in Google Colab"
   ],
   "id": "1c5d5f39-47ea-480c-b592-457c7dae2ad1"
  },
  {
   "cell_type": "code",
   "execution_count": null,
   "metadata": {},
   "outputs": [],
   "source": [
    "!git clone https://github.com/jrymart/peclet-prediction.git\n",
    "import os\n",
    "os.chdir('peclet-prediction')\n"
   ],
   "id": "de0065d4-2e87-46cc-960f-8ea4118c75f3"
  },
  {
   "cell_type": "code",
   "execution_count": null,
   "metadata": {
    "results": "output"
   },
   "outputs": [],
   "source": [
    "import torch\n",
    "from train_peclet_model import PecletModelTrainer\n",
    "from ThreeLayerCNNRegressor import ThreeLayerCNNRegressor\n",
    "import json\n",
    "import matplotlib.pyplot as plt\n"
   ],
   "id": "c0155709-cc14-4068-af78-65464d0d8800"
  },
  {
   "cell_type": "code",
   "execution_count": null,
   "metadata": {
    "tangle": "python.py"
   },
   "outputs": [],
   "source": [
    "#with open('full_dataset_statistics.json', 'r') as f:\n",
    "#    stats = json.load(f)\n"
   ],
   "id": "9b098c93-7704-4d05-8af2-c7795c558311"
  },
  {
   "cell_type": "code",
   "execution_count": null,
   "metadata": {
    "results": "output"
   },
   "outputs": [],
   "source": [
    "torch.manual_seed(0)\n",
    "db_path = 'model_runs.db'\n",
    "data_path = 'model_run_topography'\n",
    "trainer_one = PecletModelTrainer(db_path,\n",
    "                                 data_path,\n",
    "                                 ThreeLayerCNNRegressor(channels=2),\n",
    "                                 \"SELECT log_peclet FROM model_run_outputs\",\n",
    "                                 epochs=50,\n",
    "                                 learning_rate=0.0001)\n",
    "\n",
    "trainer_one.train()\n"
   ],
   "id": "3d69fa94-20d3-48d1-9b1d-9277074d236f"
  },
  {
   "cell_type": "code",
   "execution_count": null,
   "metadata": {
    "results": "output"
   },
   "outputs": [],
   "source": [
    "trainer_one.evaluate()\n",
    "trainer_one.save_weights('peclet_predictor_run_with_acc.pt')\n",
    "run_one_results, ax = plt.subplots()\n",
    "ax.scatter(trainer_one.test_df['true_labels'], trainer_one.test_df['predictions'])\n",
    "ax.set_xlabel('True Log Pe')\n",
    "ax.set_ylabel('Inferred Log Pe')\n",
    "ax.set_title('Performance of Model with Seed 0')\n",
    "run_one_resuts.savefig('run_with_acc_results.png')\n"
   ],
   "id": "33539b06-66f6-40ed-b77f-70e59d039462"
  }
 ],
 "nbformat": 4,
 "nbformat_minor": 5,
 "metadata": {}
}
