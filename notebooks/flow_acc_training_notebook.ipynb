{
 "cells": [
  {
   "cell_type": "markdown",
   "metadata": {},
   "source": [
    "# Training Neural Networks to Infer the Peclet Number of Model Runs\n",
    "\n",
    "This notebook trains two convolutional neural networks to infer the\n",
    "Peclet number of 2D streampower-diffusion landscape evolution models.\n",
    "The purpose of this notebook is to make it easy to replicate the work\n",
    "done in this project in Google Colab"
   ],
   "id": "7d796312-77df-46f6-9e68-116e038147bb"
  },
  {
   "cell_type": "code",
   "execution_count": null,
   "metadata": {},
   "outputs": [],
   "source": [
    "!git clone https://github.com/jrymart/peclet-prediction.git\n",
    "import os\n",
    "os.chdir('peclet-prediction')\n"
   ],
   "id": "255727fc-066c-4edf-8278-3e80d8435419"
  },
  {
   "cell_type": "code",
   "execution_count": null,
   "metadata": {
    "results": "output"
   },
   "outputs": [],
   "source": [
    "import torch\n",
    "from train_peclet_model import PecletModelTrainer\n",
    "from ThreeLayerCNNRegressor import ThreeLayerCNNRegressor\n",
    "import json\n",
    "import matplotlib.pyplot as plt\n"
   ],
   "id": "9babee37-b8ed-48af-b35f-981ef68f2409"
  },
  {
   "cell_type": "code",
   "execution_count": null,
   "metadata": {
    "tangle": "python.py"
   },
   "outputs": [],
   "source": [
    "with open('dem_logflowacc_statistics.json', 'r') as f:\n",
    "    stats = json.load(f)\n"
   ],
   "id": "c94bc9a3-6ee2-42eb-9288-3c71d1339573"
  },
  {
   "cell_type": "code",
   "execution_count": null,
   "metadata": {
    "results": "output"
   },
   "outputs": [],
   "source": [
    "torch.manual_seed(0)\n",
    "db_path = 'model_runs.db'\n",
    "data_path = 'model_run_topography'\n",
    "trainer_one = PecletModelTrainer(db_path,\n",
    "                                 data_path,\n",
    "                                 ThreeLayerCNNRegressor(channels=2),\n",
    "                                 \"SELECT log_peclet FROM model_run_outputs\",\n",
    "                                 epochs=50,\n",
    "                                 learning_rate=0.0001, **stats)\n",
    "\n",
    "trainer_one.train()\n"
   ],
   "id": "53996da7-407c-4d6a-99f4-3f6ab37f1259"
  },
  {
   "cell_type": "code",
   "execution_count": null,
   "metadata": {
    "results": "output"
   },
   "outputs": [],
   "source": [
    "trainer_one.evaluate()\n",
    "trainer_one.save_weights('peclet_predictor_run_with_acc.pt')\n",
    "run_one_results, ax = plt.subplots()\n",
    "ax.scatter(trainer_one.test_df['true_labels'], trainer_one.test_df['predictions'])\n",
    "ax.set_xlabel('True Log Pe')\n",
    "ax.set_ylabel('Inferred Log Pe')\n",
    "ax.set_title('Performance of Model with Seed 0')\n",
    "run_one_resuts.savefig('run_with_acc_results.png')\n"
   ],
   "id": "b041fe38-14e3-4547-9728-221464c1262b"
  }
 ],
 "nbformat": 4,
 "nbformat_minor": 5,
 "metadata": {}
}
